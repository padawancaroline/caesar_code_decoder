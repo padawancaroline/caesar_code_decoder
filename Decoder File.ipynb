{
 "cells": [
  {
   "cell_type": "markdown",
   "metadata": {},
   "source": [
    "# Fun Project: Communicate in Secret Code \n",
    "\n",
    "The following cipher allows user to decode and encode message using either Caesar or Vigenère Cipher. "
   ]
  },
  {
   "cell_type": "code",
   "execution_count": 150,
   "metadata": {},
   "outputs": [],
   "source": [
    "# Global variable name              # Type\n",
    "message = ''                        # string\n",
    "cipher_type = ''                    # string\n",
    "encrypt_or_decrypt = ''             # string\n",
    "keyword = ''                        # string\n",
    "offset = ''                         # string\n",
    "check_type = ''                     # string\n",
    "output_message = ''                 # string\n",
    "offset_incremental = 1              #integer\n",
    "\n",
    "#define alphabet\n",
    "import string\n",
    "alphabet = string.ascii_lowercase\n",
    "#print (alphabet)           #uncomment for QA validation"
   ]
  },
  {
   "cell_type": "markdown",
   "metadata": {},
   "source": [
    "#### Cipher"
   ]
  },
  {
   "cell_type": "code",
   "execution_count": 151,
   "metadata": {},
   "outputs": [],
   "source": [
    "def vigenere_cipher(encrypt_or_decrypt, message, keyword):\n",
    "    #function variables\n",
    "    keyword_phrase = ''\n",
    "    keyword_index = 0\n",
    "    output_message_v = ''\n",
    "    message_lower = message.lower()\n",
    "\n",
    "    #Step 1: define length of keyword phrase to match message\n",
    "    for character in message_lower:\n",
    "        #reset keyword index to keep cycling through keyword\n",
    "        if keyword_index >= len(keyword):\n",
    "            keyword_index = 0\n",
    "        # create keyword letter sequence by repeting the keyword letters based on len(message)\n",
    "        if character in alphabet:\n",
    "            keyword_phrase += keyword[keyword_index]\n",
    "            keyword_index += 1\n",
    "        else:\n",
    "            keyword_phrase += character \n",
    "        \n",
    "    #Step 2: decode message based on index diff between message and keyword phrase letter position\n",
    "    for i in range(len(message)):\n",
    "        if message_lower[i] in alphabet:\n",
    "            character_index = alphabet.find(message_lower[i])\n",
    "            keyword_offset_index = alphabet.find(keyword_phrase[i])\n",
    "            # Decryption\n",
    "            if encrypt_or_decrypt == 'd':\n",
    "                output_message_v += alphabet[(character_index + keyword_offset_index) % 26]\n",
    "            # Encryption\n",
    "            elif encrypt_or_decrypt == 'e':\n",
    "                output_message_v += alphabet[(character_index - keyword_offset_index) % 26]\n",
    "        else:\n",
    "            output_message_v += message[i]\n",
    "    return output_message_v"
   ]
  },
  {
   "cell_type": "code",
   "execution_count": 152,
   "metadata": {},
   "outputs": [],
   "source": [
    "def caesar_cipher(encrypt_or_decrypt, message, offset):\n",
    "    #function variables\n",
    "    output_message_c = ''\n",
    "    message_lower = message.lower()\n",
    "    \n",
    "    \n",
    "    # Cipher logic\n",
    "    #if character is a letter, decode by finding decoded letter position\n",
    "    for character in message_lower:\n",
    "        if character in alphabet:\n",
    "            character_index = alphabet.find(character)\n",
    "            # Decryption\n",
    "            if encrypt_or_decrypt == 'd':\n",
    "                if offset != 0:\n",
    "                    character_index = alphabet.find(character)\n",
    "                    output_message_c += alphabet[(character_index + offset) % 26]\n",
    "                elif offset == 0:\n",
    "                    output_message_c += alphabet[(character_index + (offset_incremental)) % 26]\n",
    "                else: \n",
    "                    output_message_c += character\n",
    "                # Encryption\n",
    "            elif encrypt_or_decrypt == 'e':\n",
    "                output_message_c += alphabet[(character_index - offset) % 26]\n",
    "        #if character is a special character, add character as is\n",
    "        else: \n",
    "            output_message_c += character\n",
    "    return output_message_c"
   ]
  },
  {
   "cell_type": "code",
   "execution_count": 153,
   "metadata": {},
   "outputs": [],
   "source": [
    "#def no_offset_value(message, offset, caesar_cipher):\n",
    "#    offset = 0\n",
    "#    for x in range(1,26):\n",
    "#       output_message = caesar_cipher(message, offset)\n",
    "#        offset += 1\n",
    "#       print('Offset = ' + str(offset) + ': ' + output_message)"
   ]
  },
  {
   "cell_type": "markdown",
   "metadata": {},
   "source": [
    "#### User Input"
   ]
  },
  {
   "cell_type": "code",
   "execution_count": 154,
   "metadata": {},
   "outputs": [],
   "source": [
    "# Vigenere cipher\n",
    "#if cipher_type == 'v':\n",
    "    #vigenere_cipher(encrypt_or_decrypt, message, keyword)\n",
    "# Caesar cipher\n",
    "#elif cipher_type == 'c':\n",
    "    #caesar_cipher(encrypt_or_decrypt, message, offset)\n",
    "#return output_message"
   ]
  },
  {
   "cell_type": "code",
   "execution_count": 155,
   "metadata": {},
   "outputs": [
    {
     "data": {
      "text/plain": [
       "''"
      ]
     },
     "execution_count": 155,
     "metadata": {},
     "output_type": "execute_result"
    }
   ],
   "source": [
    "caesar_cipher(encrypt_or_decrypt, message, offset)"
   ]
  },
  {
   "cell_type": "code",
   "execution_count": 156,
   "metadata": {},
   "outputs": [
    {
     "data": {
      "text/plain": [
       "''"
      ]
     },
     "execution_count": 156,
     "metadata": {},
     "output_type": "execute_result"
    }
   ],
   "source": [
    "vigenere_cipher(encrypt_or_decrypt, message, keyword)"
   ]
  },
  {
   "cell_type": "code",
   "execution_count": 157,
   "metadata": {},
   "outputs": [],
   "source": [
    "#input message to encode or decode\n",
    "message = 'mr bond. what a surprise to see you here!'\n",
    "#enter below either 'e' to encode or 'd' to decode your mmessage\n",
    "encrypt_or_decrypt = 'e'\n",
    "#enter below keyword:\n",
    "keyword = 'friends'\n",
    "cipher_type = 'v'\n",
    "offset = 10"
   ]
  },
  {
   "cell_type": "code",
   "execution_count": 158,
   "metadata": {},
   "outputs": [
    {
     "name": "stdout",
     "output_type": "stream",
     "text": [
      "Yay! Secret message encrypted! Don't forget to share the offset or keyword value with your fellow spy!\n",
      "Decrypted message: ha tkaa. ecjl w frzkaaor qw nnw ubr pzaw!\n"
     ]
    }
   ],
   "source": [
    "\n",
    "\n",
    "if cipher_type == 'v':\n",
    "    if encrypt_or_decrypt == 'd':\n",
    "        output_message = vigenere_cipher(encrypt_or_decrypt, message, keyword)\n",
    "        print('Yay! Secret message cracked! Let\\'s encrypt your response if you are ready.')\n",
    "        print('Decrypted message: {decrypted}'.format(decrypted=output_message))\n",
    "    elif encrypt_or_decrypt == 'e':\n",
    "        output_message = vigenere_cipher(encrypt_or_decrypt, message, keyword)\n",
    "        print('Yay! Secret message encrypted! Don\\'t forget to share the offset or keyword value with your fellow spy!')\n",
    "        print('Decrypted message: {encrypted}'.format(encrypted=output_message))\n",
    "    else:\n",
    "        print('Please make sure you correctly entered the cypher parameters.')\n",
    "elif cipher_type == 'c':\n",
    "    if encrypt_or_decrypt == 'd':\n",
    "            if offset != 0:\n",
    "                output_message = caesar_cipher(encrypt_or_decrypt, message, offset)\n",
    "                print('Yay! Secret message encrypted! Don\\'t forget to share the offset or keyword value with your fellow spy!')\n",
    "                print('Decrypted message: {decrypted}'.format(decrypted=output_message))\n",
    "            elif offset == 0: \n",
    "                for x in range(1,26):\n",
    "                    output_message = caesar_cipher(encrypt_or_decrypt, message, offset)\n",
    "                    offset_incremental += 1\n",
    "                    print('Offset = ' + str(offset_incremental) + ': ' + output_message)\n",
    "    elif encrypt_or_decrypt == 'e':\n",
    "        output_message = caesar_cipher(encrypt_or_decrypt, message, offset)\n",
    "        print('Yay! Secret message encrypted! Don\\'t forget to share the offset or keyword value with your fellow spy!')\n",
    "        print('Decrypted message: {encrypted}'.format(encrypted=output_message))\n",
    "    else:\n",
    "        print('Please make sure you correctly entered the cypher parameters.')\n",
    "else:\n",
    "    print('Please make sure you correctly entered the cypher parameters.')\n",
    "\n",
    "\n",
    "#v = ri jsag. omrb e fxjuiqwr wg xvm cbx zjim!"
   ]
  }
 ],
 "metadata": {
  "kernelspec": {
   "display_name": "Python 3",
   "language": "python",
   "name": "python3"
  },
  "language_info": {
   "codemirror_mode": {
    "name": "ipython",
    "version": 3
   },
   "file_extension": ".py",
   "mimetype": "text/x-python",
   "name": "python",
   "nbconvert_exporter": "python",
   "pygments_lexer": "ipython3",
   "version": "3.9.6"
  }
 },
 "nbformat": 4,
 "nbformat_minor": 2
}
